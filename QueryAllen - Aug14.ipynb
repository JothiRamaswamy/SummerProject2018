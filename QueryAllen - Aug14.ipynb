{
 "cells": [
  {
   "cell_type": "code",
   "execution_count": 1,
   "metadata": {},
   "outputs": [
    {
     "name": "stderr",
     "output_type": "stream",
     "text": [
      "/Users/jothi/anaconda3/lib/python3.6/site-packages/h5py/__init__.py:36: FutureWarning: Conversion of the second argument of issubdtype from `float` to `np.floating` is deprecated. In future, it will be treated as `np.float64 == np.dtype(float).type`.\n",
      "  from ._conv import register_converters as _register_converters\n"
     ]
    },
    {
     "name": "stdout",
     "output_type": "stream",
     "text": [
      "all targeted structures: ['VISal', 'VISam', 'VISl', 'VISp', 'VISpm', 'VISrl']\n"
     ]
    }
   ],
   "source": [
    "from allensdk.core.brain_observatory_cache import BrainObservatoryCache\n",
    "import pprint\n",
    "\n",
    "# This class uses a 'manifest' to keep track of downloaded data and metadata.  \n",
    "# All downloaded files will be stored relative to the directory holding the manifest\n",
    "# file.  If 'manifest_file' is a relative path (as it is below), it will be \n",
    "# saved relative to your working directory.  It can also be an absolute path.\n",
    "boc = BrainObservatoryCache(manifest_file='boc/manifest.json')\n",
    "\n",
    "# Download a list of all targeted areas\n",
    "targeted_structures = boc.get_all_targeted_structures()\n",
    "print(\"all targeted structures: \" + str(targeted_structures))"
   ]
  },
  {
   "cell_type": "code",
   "execution_count": 44,
   "metadata": {},
   "outputs": [
    {
     "name": "stdout",
     "output_type": "stream",
     "text": [
      "Cux2 experiments: 62\n",
      "\n"
     ]
    }
   ],
   "source": [
    "# Download experiment containers for Cux2 experiments\n",
    "emx1_ecs = boc.get_experiment_containers(cre_lines=['Emx1-IRES-Cre'])\n",
    "print(\"Cux2 experiments: %d\\n\" % len(cux2_ecs))"
   ]
  },
  {
   "cell_type": "code",
   "execution_count": 53,
   "metadata": {},
   "outputs": [
    {
     "name": "stdout",
     "output_type": "stream",
     "text": [
      "[['Emx1-IRES-Cre', 540168837, 375], ['Emx1-IRES-Cre', 527583578, 175], ['Emx1-IRES-Cre', 539515366, 175], ['Emx1-IRES-Cre', 543677427, 175], ['Emx1-IRES-Cre', 528693630, 275]]\n",
      "5\n"
     ]
    }
   ],
   "source": [
    "import allensdk.brain_observatory.stimulus_info as stim_info\n",
    "lps_ids_emx1_ecs = []\n",
    "for c in emx1_ecs:\n",
    "    exp = boc.get_ophys_experiments(experiment_container_ids=[c['id']], \n",
    "                                stimuli=[stim_info.LOCALLY_SPARSE_NOISE])\n",
    "    for e in exp:\n",
    "        info = ['Emx1-IRES-Cre']\n",
    "        info.append(e['id'])\n",
    "        info.append(e['imaging_depth'])\n",
    "        lps_ids_emx1_ecs.append(info)\n",
    "print(lps_ids_emx1_ecs)\n",
    "print(len(lps_ids_emx1_ecs))"
   ]
  },
  {
   "cell_type": "code",
   "execution_count": 2,
   "metadata": {},
   "outputs": [
    {
     "name": "stdout",
     "output_type": "stream",
     "text": [
      "Cux2 experiments: 62\n",
      "\n"
     ]
    }
   ],
   "source": [
    "# Download experiment containers for Cux2 experiments\n",
    "cux2_ecs = boc.get_experiment_containers(cre_lines=['Cux2-CreERT2'])\n",
    "print(\"Cux2 experiments: %d\\n\" % len(cux2_ecs))"
   ]
  },
  {
   "cell_type": "code",
   "execution_count": 54,
   "metadata": {},
   "outputs": [
    {
     "name": "stdout",
     "output_type": "stream",
     "text": [
      "[['Cux2-CreERT2', 501474098, 175], ['Cux2-CreERT2', 501847516, 175], ['Cux2-CreERT2', 505693621, 275], ['Cux2-CreERT2', 501773889, 275], ['Cux2-CreERT2', 511977695, 275], ['Cux2-CreERT2', 509644421, 175], ['Cux2-CreERT2', 530047022, 275], ['Cux2-CreERT2', 504809131, 275], ['Cux2-CreERT2', 503864409, 175], ['Cux2-CreERT2', 525368285, 275], ['Cux2-CreERT2', 501839084, 175], ['Cux2-CreERT2', 503526711, 175], ['Cux2-CreERT2', 506144725, 175], ['Cux2-CreERT2', 501337989, 175], ['Cux2-CreERT2', 504642019, 175], ['Cux2-CreERT2', 527550473, 275], ['Cux2-CreERT2', 502066273, 175], ['Cux2-CreERT2', 506074436, 175], ['Cux2-CreERT2', 500855614, 175], ['Cux2-CreERT2', 507552264, 275], ['Cux2-CreERT2', 530782502, 275], ['Cux2-CreERT2', 502383036, 175], ['Cux2-CreERT2', 506954308, 275], ['Cux2-CreERT2', 502974807, 275], ['Cux2-CreERT2', 504108263, 175], ['Cux2-CreERT2', 506356888, 175], ['Cux2-CreERT2', 505143581, 175], ['Cux2-CreERT2', 505017668, 275], ['Cux2-CreERT2', 510532780, 175], ['Cux2-CreERT2', 511976254, 175], ['Cux2-CreERT2', 508262069, 275], ['Cux2-CreERT2', 506248008, 175], ['Cux2-CreERT2', 506456537, 175], ['Cux2-CreERT2', 501717543, 175], ['Cux2-CreERT2', 507373856, 175], ['Cux2-CreERT2', 502667200, 175], ['Cux2-CreERT2', 501254258, 275], ['Cux2-CreERT2', 511856569, 275], ['Cux2-CreERT2', 510933273, 275], ['Cux2-CreERT2', 539749336, 275], ['Cux2-CreERT2', 504101079, 175], ['Cux2-CreERT2', 510416190, 275], ['Cux2-CreERT2', 502352946, 175], ['Cux2-CreERT2', 510174759, 175], ['Cux2-CreERT2', 504639393, 275], ['Cux2-CreERT2', 509469152, 175], ['Cux2-CreERT2', 502634578, 275]]\n"
     ]
    }
   ],
   "source": [
    "lps_ids_cux2_ecs = []\n",
    "for c in cux2_ecs:\n",
    "    exp = boc.get_ophys_experiments(experiment_container_ids=[c['id']], \n",
    "                                stimuli=[stim_info.LOCALLY_SPARSE_NOISE])\n",
    "    for e in exp:\n",
    "        info = ['Cux2-CreERT2']\n",
    "        info.append(e['id'])\n",
    "        info.append(e['imaging_depth'])\n",
    "        lps_ids_cux2_ecs.append(info)\n",
    "print(lps_ids_cux2_ecs)"
   ]
  },
  {
   "cell_type": "code",
   "execution_count": 38,
   "metadata": {},
   "outputs": [
    {
     "name": "stdout",
     "output_type": "stream",
     "text": [
      "Cux2 experiments: 29\n",
      "\n"
     ]
    }
   ],
   "source": [
    "nr5a1_ecs = boc.get_experiment_containers(cre_lines=['Nr5a1-Cre'])\n",
    "print(\"Cux2 experiments: %d\\n\" % len(nr5a1_ecs))"
   ]
  },
  {
   "cell_type": "code",
   "execution_count": 55,
   "metadata": {},
   "outputs": [
    {
     "name": "stdout",
     "output_type": "stream",
     "text": [
      "[['Nr5a1-Cre', 528792732, 350], ['Nr5a1-Cre', 539000397, 350], ['Nr5a1-Cre', 530181996, 350], ['Nr5a1-Cre', 539540432, 335]]\n"
     ]
    }
   ],
   "source": [
    "lps_ids_nr5a1_ecs = []\n",
    "for c in nr5a1_ecs:\n",
    "    exp = boc.get_ophys_experiments(experiment_container_ids=[c['id']], \n",
    "                                stimuli=[stim_info.LOCALLY_SPARSE_NOISE])\n",
    "    for e in exp:\n",
    "        info = ['Nr5a1-Cre']\n",
    "        info.append(e['id'])\n",
    "        info.append(e['imaging_depth'])\n",
    "        lps_ids_nr5a1_ecs.append(info)\n",
    "print(lps_ids_nr5a1_ecs)"
   ]
  },
  {
   "cell_type": "code",
   "execution_count": 40,
   "metadata": {},
   "outputs": [
    {
     "name": "stdout",
     "output_type": "stream",
     "text": [
      "Cux2 experiments: 21\n",
      "\n"
     ]
    }
   ],
   "source": [
    "rbp4_ecs = boc.get_experiment_containers(cre_lines=['Rbp4-Cre_KL100'])\n",
    "print(\"Cux2 experiments: %d\\n\" % len(rbp4_ecs))"
   ]
  },
  {
   "cell_type": "code",
   "execution_count": 56,
   "metadata": {},
   "outputs": [
    {
     "name": "stdout",
     "output_type": "stream",
     "text": [
      "[['Rbp4-Cre_KL100', 510535700, 375], ['Rbp4-Cre_KL100', 510656082, 375], ['Rbp4-Cre_KL100', 507691566, 375], ['Rbp4-Cre_KL100', 511305590, 375], ['Rbp4-Cre_KL100', 510536059, 375], ['Rbp4-Cre_KL100', 502665019, 375], ['Rbp4-Cre_KL100', 510514430, 375], ['Rbp4-Cre_KL100', 510536157, 375]]\n"
     ]
    }
   ],
   "source": [
    "lps_ids_rbp4_ecs = []\n",
    "for c in rbp4_ecs:\n",
    "    exp = boc.get_ophys_experiments(experiment_container_ids=[c['id']], \n",
    "                                stimuli=[stim_info.LOCALLY_SPARSE_NOISE])\n",
    "    for e in exp:\n",
    "        info = ['Rbp4-Cre_KL100']\n",
    "        info.append(e['id'])\n",
    "        info.append(e['imaging_depth'])\n",
    "        lps_ids_rbp4_ecs.append(info)\n",
    "print(lps_ids_rbp4_ecs)"
   ]
  },
  {
   "cell_type": "code",
   "execution_count": 42,
   "metadata": {},
   "outputs": [
    {
     "name": "stdout",
     "output_type": "stream",
     "text": [
      "Cux2 experiments: 27\n",
      "\n"
     ]
    }
   ],
   "source": [
    "rorb_ecs = boc.get_experiment_containers(cre_lines=['Rorb-IRES2-Cre'])\n",
    "print(\"Cux2 experiments: %d\\n\" % len(rorb_ecs))"
   ]
  },
  {
   "cell_type": "code",
   "execution_count": 57,
   "metadata": {},
   "outputs": [
    {
     "name": "stdout",
     "output_type": "stream",
     "text": [
      "[['Rorb-IRES2-Cre', 530739576, 275], ['Rorb-IRES2-Cre', 505811062, 275], ['Rorb-IRES2-Cre', 501879034, 275], ['Rorb-IRES2-Cre', 512176430, 275], ['Rorb-IRES2-Cre', 509729072, 275], ['Rorb-IRES2-Cre', 502483554, 275], ['Rorb-IRES2-Cre', 506694419, 275], ['Rorb-IRES2-Cre', 510814438, 275], ['Rorb-IRES2-Cre', 510524416, 275], ['Rorb-IRES2-Cre', 505198966, 275], ['Rorb-IRES2-Cre', 510021399, 275], ['Rorb-IRES2-Cre', 526768996, 275], ['Rorb-IRES2-Cre', 501788003, 275], ['Rorb-IRES2-Cre', 510417261, 275]]\n"
     ]
    }
   ],
   "source": [
    "lps_ids_rorb_ecs = []\n",
    "for c in rorb_ecs:\n",
    "    exp = boc.get_ophys_experiments(experiment_container_ids=[c['id']], \n",
    "                                stimuli=[stim_info.LOCALLY_SPARSE_NOISE])\n",
    "    for e in exp:\n",
    "        info = ['Rorb-IRES2-Cre']\n",
    "        info.append(e['id'])\n",
    "        info.append(e['imaging_depth'])\n",
    "        lps_ids_rorb_ecs.append(info)\n",
    "print(lps_ids_rorb_ecs)"
   ]
  },
  {
   "cell_type": "code",
   "execution_count": 46,
   "metadata": {},
   "outputs": [
    {
     "name": "stdout",
     "output_type": "stream",
     "text": [
      "Cux2 experiments: 9\n",
      "\n"
     ]
    }
   ],
   "source": [
    "scnn1a_ecs = boc.get_experiment_containers(cre_lines=['Scnn1a-Tg3-Cre'])\n",
    "print(\"Cux2 experiments: %d\\n\" % len(scnn1a_ecs))"
   ]
  },
  {
   "cell_type": "code",
   "execution_count": 58,
   "metadata": {},
   "outputs": [
    {
     "name": "stdout",
     "output_type": "stream",
     "text": [
      "[['Scnn1a-Tg3-Cre', 506353473, 350], ['Scnn1a-Tg3-Cre', 531008833, 350], ['Scnn1a-Tg3-Cre', 508220632, 275], ['Scnn1a-Tg3-Cre', 497060401, 350], ['Scnn1a-Tg3-Cre', 540609585, 275], ['Scnn1a-Tg3-Cre', 540993890, 350], ['Scnn1a-Tg3-Cre', 511242327, 350], ['Scnn1a-Tg3-Cre', 537153918, 335]]\n"
     ]
    }
   ],
   "source": [
    "lps_ids_scnn1a_ecs = []\n",
    "for c in scnn1a_ecs:\n",
    "    exp = boc.get_ophys_experiments(experiment_container_ids=[c['id']], \n",
    "                                stimuli=[stim_info.LOCALLY_SPARSE_NOISE])\n",
    "    for e in exp:\n",
    "        info = ['Scnn1a-Tg3-Cre']\n",
    "        info.append(e['id'])\n",
    "        info.append(e['imaging_depth'])\n",
    "        lps_ids_scnn1a_ecs.append(info)\n",
    "print(lps_ids_scnn1a_ecs)"
   ]
  },
  {
   "cell_type": "code",
   "execution_count": 59,
   "metadata": {},
   "outputs": [
    {
     "data": {
      "text/plain": [
       "[['Cux2-CreERT2', 501474098, 175],\n",
       " ['Cux2-CreERT2', 501847516, 175],\n",
       " ['Cux2-CreERT2', 505693621, 275],\n",
       " ['Cux2-CreERT2', 501773889, 275],\n",
       " ['Cux2-CreERT2', 511977695, 275],\n",
       " ['Cux2-CreERT2', 509644421, 175],\n",
       " ['Cux2-CreERT2', 530047022, 275],\n",
       " ['Cux2-CreERT2', 504809131, 275],\n",
       " ['Cux2-CreERT2', 503864409, 175],\n",
       " ['Cux2-CreERT2', 525368285, 275],\n",
       " ['Cux2-CreERT2', 501839084, 175],\n",
       " ['Cux2-CreERT2', 503526711, 175],\n",
       " ['Cux2-CreERT2', 506144725, 175],\n",
       " ['Cux2-CreERT2', 501337989, 175],\n",
       " ['Cux2-CreERT2', 504642019, 175],\n",
       " ['Cux2-CreERT2', 527550473, 275],\n",
       " ['Cux2-CreERT2', 502066273, 175],\n",
       " ['Cux2-CreERT2', 506074436, 175],\n",
       " ['Cux2-CreERT2', 500855614, 175],\n",
       " ['Cux2-CreERT2', 507552264, 275],\n",
       " ['Cux2-CreERT2', 530782502, 275],\n",
       " ['Cux2-CreERT2', 502383036, 175],\n",
       " ['Cux2-CreERT2', 506954308, 275],\n",
       " ['Cux2-CreERT2', 502974807, 275],\n",
       " ['Cux2-CreERT2', 504108263, 175],\n",
       " ['Cux2-CreERT2', 506356888, 175],\n",
       " ['Cux2-CreERT2', 505143581, 175],\n",
       " ['Cux2-CreERT2', 505017668, 275],\n",
       " ['Cux2-CreERT2', 510532780, 175],\n",
       " ['Cux2-CreERT2', 511976254, 175],\n",
       " ['Cux2-CreERT2', 508262069, 275],\n",
       " ['Cux2-CreERT2', 506248008, 175],\n",
       " ['Cux2-CreERT2', 506456537, 175],\n",
       " ['Cux2-CreERT2', 501717543, 175],\n",
       " ['Cux2-CreERT2', 507373856, 175],\n",
       " ['Cux2-CreERT2', 502667200, 175],\n",
       " ['Cux2-CreERT2', 501254258, 275],\n",
       " ['Cux2-CreERT2', 511856569, 275],\n",
       " ['Cux2-CreERT2', 510933273, 275],\n",
       " ['Cux2-CreERT2', 539749336, 275],\n",
       " ['Cux2-CreERT2', 504101079, 175],\n",
       " ['Cux2-CreERT2', 510416190, 275],\n",
       " ['Cux2-CreERT2', 502352946, 175],\n",
       " ['Cux2-CreERT2', 510174759, 175],\n",
       " ['Cux2-CreERT2', 504639393, 275],\n",
       " ['Cux2-CreERT2', 509469152, 175],\n",
       " ['Cux2-CreERT2', 502634578, 275],\n",
       " ['Emx1-IRES-Cre', 540168837, 375],\n",
       " ['Emx1-IRES-Cre', 527583578, 175],\n",
       " ['Emx1-IRES-Cre', 539515366, 175],\n",
       " ['Emx1-IRES-Cre', 543677427, 175],\n",
       " ['Emx1-IRES-Cre', 528693630, 275],\n",
       " ['Nr5a1-Cre', 528792732, 350],\n",
       " ['Nr5a1-Cre', 539000397, 350],\n",
       " ['Nr5a1-Cre', 530181996, 350],\n",
       " ['Nr5a1-Cre', 539540432, 335],\n",
       " ['Rbp4-Cre_KL100', 510535700, 375],\n",
       " ['Rbp4-Cre_KL100', 510656082, 375],\n",
       " ['Rbp4-Cre_KL100', 507691566, 375],\n",
       " ['Rbp4-Cre_KL100', 511305590, 375],\n",
       " ['Rbp4-Cre_KL100', 510536059, 375],\n",
       " ['Rbp4-Cre_KL100', 502665019, 375],\n",
       " ['Rbp4-Cre_KL100', 510514430, 375],\n",
       " ['Rbp4-Cre_KL100', 510536157, 375],\n",
       " ['Rorb-IRES2-Cre', 530739576, 275],\n",
       " ['Rorb-IRES2-Cre', 505811062, 275],\n",
       " ['Rorb-IRES2-Cre', 501879034, 275],\n",
       " ['Rorb-IRES2-Cre', 512176430, 275],\n",
       " ['Rorb-IRES2-Cre', 509729072, 275],\n",
       " ['Rorb-IRES2-Cre', 502483554, 275],\n",
       " ['Rorb-IRES2-Cre', 506694419, 275],\n",
       " ['Rorb-IRES2-Cre', 510814438, 275],\n",
       " ['Rorb-IRES2-Cre', 510524416, 275],\n",
       " ['Rorb-IRES2-Cre', 505198966, 275],\n",
       " ['Rorb-IRES2-Cre', 510021399, 275],\n",
       " ['Rorb-IRES2-Cre', 526768996, 275],\n",
       " ['Rorb-IRES2-Cre', 501788003, 275],\n",
       " ['Rorb-IRES2-Cre', 510417261, 275],\n",
       " ['Scnn1a-Tg3-Cre', 506353473, 350],\n",
       " ['Scnn1a-Tg3-Cre', 531008833, 350],\n",
       " ['Scnn1a-Tg3-Cre', 508220632, 275],\n",
       " ['Scnn1a-Tg3-Cre', 497060401, 350],\n",
       " ['Scnn1a-Tg3-Cre', 540609585, 275],\n",
       " ['Scnn1a-Tg3-Cre', 540993890, 350],\n",
       " ['Scnn1a-Tg3-Cre', 511242327, 350],\n",
       " ['Scnn1a-Tg3-Cre', 537153918, 335]]"
      ]
     },
     "execution_count": 59,
     "metadata": {},
     "output_type": "execute_result"
    }
   ],
   "source": [
    "lps = lps_ids_cux2_ecs + lps_ids_emx1_ecs + lps_ids_nr5a1_ecs + lps_ids_rbp4_ecs + lps_ids_rorb_ecs + lps_ids_scnn1a_ecs\n",
    "lps"
   ]
  },
  {
   "cell_type": "code",
   "execution_count": 71,
   "metadata": {},
   "outputs": [
    {
     "data": {
      "text/plain": [
       "[['Cux2-CreERT2', 501474098, 175, 'VISp'],\n",
       " ['Cux2-CreERT2', 501847516, 175, 'VISal'],\n",
       " ['Cux2-CreERT2', 505693621, 275, 'VISpm'],\n",
       " ['Cux2-CreERT2', 501773889, 275, 'VISp'],\n",
       " ['Cux2-CreERT2', 511977695, 275, 'VISal'],\n",
       " ['Cux2-CreERT2', 509644421, 175, 'VISp'],\n",
       " ['Cux2-CreERT2', 530047022, 275, 'VISl'],\n",
       " ['Cux2-CreERT2', 504809131, 275, 'VISl'],\n",
       " ['Cux2-CreERT2', 503864409, 175, 'VISpm'],\n",
       " ['Cux2-CreERT2', 525368285, 275, 'VISp'],\n",
       " ['Cux2-CreERT2', 501839084, 175, 'VISal'],\n",
       " ['Cux2-CreERT2', 503526711, 175, 'VISpm'],\n",
       " ['Cux2-CreERT2', 506144725, 175, 'VISpm'],\n",
       " ['Cux2-CreERT2', 501337989, 175, 'VISp'],\n",
       " ['Cux2-CreERT2', 504642019, 175, 'VISp'],\n",
       " ['Cux2-CreERT2', 527550473, 275, 'VISp'],\n",
       " ['Cux2-CreERT2', 502066273, 175, 'VISpm'],\n",
       " ['Cux2-CreERT2', 506074436, 175, 'VISpm'],\n",
       " ['Cux2-CreERT2', 500855614, 175, 'VISp'],\n",
       " ['Cux2-CreERT2', 507552264, 275, 'VISl'],\n",
       " ['Cux2-CreERT2', 530782502, 275, 'VISp'],\n",
       " ['Cux2-CreERT2', 502383036, 175, 'VISl'],\n",
       " ['Cux2-CreERT2', 506954308, 275, 'VISpm'],\n",
       " ['Cux2-CreERT2', 502974807, 275, 'VISp'],\n",
       " ['Cux2-CreERT2', 504108263, 175, 'VISal'],\n",
       " ['Cux2-CreERT2', 506356888, 175, 'VISl'],\n",
       " ['Cux2-CreERT2', 505143581, 175, 'VISp'],\n",
       " ['Cux2-CreERT2', 505017668, 275, 'VISal'],\n",
       " ['Cux2-CreERT2', 510532780, 175, 'VISpm'],\n",
       " ['Cux2-CreERT2', 511976254, 175, 'VISpm'],\n",
       " ['Cux2-CreERT2', 508262069, 275, 'VISal'],\n",
       " ['Cux2-CreERT2', 506248008, 175, 'VISl'],\n",
       " ['Cux2-CreERT2', 506456537, 175, 'VISal'],\n",
       " ['Cux2-CreERT2', 501717543, 175, 'VISp'],\n",
       " ['Cux2-CreERT2', 507373856, 175, 'VISpm'],\n",
       " ['Cux2-CreERT2', 502667200, 175, 'VISal'],\n",
       " ['Cux2-CreERT2', 501254258, 275, 'VISp'],\n",
       " ['Cux2-CreERT2', 511856569, 275, 'VISal'],\n",
       " ['Cux2-CreERT2', 510933273, 275, 'VISl'],\n",
       " ['Cux2-CreERT2', 539749336, 275, 'VISp'],\n",
       " ['Cux2-CreERT2', 504101079, 175, 'VISpm'],\n",
       " ['Cux2-CreERT2', 510416190, 275, 'VISpm'],\n",
       " ['Cux2-CreERT2', 502352946, 175, 'VISl'],\n",
       " ['Cux2-CreERT2', 510174759, 175, 'VISp'],\n",
       " ['Cux2-CreERT2', 504639393, 275, 'VISpm'],\n",
       " ['Cux2-CreERT2', 509469152, 175, 'VISl'],\n",
       " ['Cux2-CreERT2', 502634578, 275, 'VISp'],\n",
       " ['Emx1-IRES-Cre', 540168837, 375, 'VISp'],\n",
       " ['Emx1-IRES-Cre', 527583578, 175, 'VISp'],\n",
       " ['Emx1-IRES-Cre', 539515366, 175, 'VISp'],\n",
       " ['Emx1-IRES-Cre', 543677427, 175, 'VISp'],\n",
       " ['Emx1-IRES-Cre', 528693630, 275, 'VISp'],\n",
       " ['Nr5a1-Cre', 528792732, 350, 'VISp'],\n",
       " ['Nr5a1-Cre', 539000397, 350, 'VISp'],\n",
       " ['Nr5a1-Cre', 530181996, 350, 'VISp'],\n",
       " ['Nr5a1-Cre', 539540432, 335, 'VISp'],\n",
       " ['Rbp4-Cre_KL100', 510535700, 375, 'VISpm'],\n",
       " ['Rbp4-Cre_KL100', 510656082, 375, 'VISal'],\n",
       " ['Rbp4-Cre_KL100', 507691566, 375, 'VISal'],\n",
       " ['Rbp4-Cre_KL100', 511305590, 375, 'VISl'],\n",
       " ['Rbp4-Cre_KL100', 510536059, 375, 'VISl'],\n",
       " ['Rbp4-Cre_KL100', 502665019, 375, 'VISp'],\n",
       " ['Rbp4-Cre_KL100', 510514430, 375, 'VISpm'],\n",
       " ['Rbp4-Cre_KL100', 510536157, 375, 'VISpm'],\n",
       " ['Rorb-IRES2-Cre', 530739576, 275, 'VISp'],\n",
       " ['Rorb-IRES2-Cre', 505811062, 275, 'VISpm'],\n",
       " ['Rorb-IRES2-Cre', 501879034, 275, 'VISl'],\n",
       " ['Rorb-IRES2-Cre', 512176430, 275, 'VISp'],\n",
       " ['Rorb-IRES2-Cre', 509729072, 275, 'VISp'],\n",
       " ['Rorb-IRES2-Cre', 502483554, 275, 'VISal'],\n",
       " ['Rorb-IRES2-Cre', 506694419, 275, 'VISl'],\n",
       " ['Rorb-IRES2-Cre', 510814438, 275, 'VISl'],\n",
       " ['Rorb-IRES2-Cre', 510524416, 275, 'VISal'],\n",
       " ['Rorb-IRES2-Cre', 505198966, 275, 'VISal'],\n",
       " ['Rorb-IRES2-Cre', 510021399, 275, 'VISpm'],\n",
       " ['Rorb-IRES2-Cre', 526768996, 275, 'VISp'],\n",
       " ['Rorb-IRES2-Cre', 501788003, 275, 'VISp'],\n",
       " ['Rorb-IRES2-Cre', 510417261, 275, 'VISal'],\n",
       " ['Scnn1a-Tg3-Cre', 506353473, 350, 'VISp'],\n",
       " ['Scnn1a-Tg3-Cre', 531008833, 350, 'VISp'],\n",
       " ['Scnn1a-Tg3-Cre', 508220632, 275, 'VISp'],\n",
       " ['Scnn1a-Tg3-Cre', 497060401, 350, 'VISp'],\n",
       " ['Scnn1a-Tg3-Cre', 540609585, 275, 'VISp'],\n",
       " ['Scnn1a-Tg3-Cre', 540993890, 350, 'VISp'],\n",
       " ['Scnn1a-Tg3-Cre', 511242327, 350, 'VISp'],\n",
       " ['Scnn1a-Tg3-Cre', 537153918, 335, 'VISp']]"
      ]
     },
     "execution_count": 71,
     "metadata": {},
     "output_type": "execute_result"
    }
   ],
   "source": [
    "#get containers from all cre lines\n",
    "cux2_ecs = boc.get_experiment_containers(cre_lines=['Cux2-CreERT2'])\n",
    "emx1_ecs = boc.get_experiment_containers(cre_lines=['Emx1-IRES-Cre'])\n",
    "nr5a1_ecs = boc.get_experiment_containers(cre_lines=['Nr5a1-Cre'])\n",
    "rbp4_ecs = boc.get_experiment_containers(cre_lines=['Rbp4-Cre_KL100'])\n",
    "rorb_ecs = boc.get_experiment_containers(cre_lines=['Rorb-IRES2-Cre'])\n",
    "scnn1a_ecs = boc.get_experiment_containers(cre_lines=['Scnn1a-Tg3-Cre'])\n",
    "\n",
    "#create array of experiment ids w/ locally sparse noise stimuli from various Cre lines and depths\n",
    "lps = []\n",
    "\n",
    "#get cux2 ids\n",
    "for c in cux2_ecs:\n",
    "    exp = boc.get_ophys_experiments(experiment_container_ids=[c['id']], \n",
    "                                stimuli=[stim_info.LOCALLY_SPARSE_NOISE])\n",
    "    for e in exp:\n",
    "        info = ['Cux2-CreERT2']\n",
    "        info.append(e['id'])\n",
    "        info.append(e['imaging_depth'])\n",
    "        info.append(e['targeted_structure'])\n",
    "        lps.append(info)\n",
    "        \n",
    "#get emx1 ids\n",
    "for c in emx1_ecs:\n",
    "    exp = boc.get_ophys_experiments(experiment_container_ids=[c['id']], \n",
    "                                stimuli=[stim_info.LOCALLY_SPARSE_NOISE])\n",
    "    for e in exp:\n",
    "        info = ['Emx1-IRES-Cre']\n",
    "        info.append(e['id'])\n",
    "        info.append(e['imaging_depth'])\n",
    "        info.append(e['targeted_structure'])\n",
    "        lps.append(info)\n",
    "        \n",
    "#get nr5a1 ids\n",
    "for c in nr5a1_ecs:\n",
    "    exp = boc.get_ophys_experiments(experiment_container_ids=[c['id']], \n",
    "                                stimuli=[stim_info.LOCALLY_SPARSE_NOISE])\n",
    "    for e in exp:\n",
    "        info = ['Nr5a1-Cre']\n",
    "        info.append(e['id'])\n",
    "        info.append(e['imaging_depth'])\n",
    "        info.append(e['targeted_structure'])\n",
    "        lps.append(info)\n",
    "        \n",
    "#get rbp4 ids\n",
    "for c in rbp4_ecs:\n",
    "    exp = boc.get_ophys_experiments(experiment_container_ids=[c['id']], \n",
    "                                stimuli=[stim_info.LOCALLY_SPARSE_NOISE])\n",
    "    for e in exp:\n",
    "        info = ['Rbp4-Cre_KL100']\n",
    "        info.append(e['id'])\n",
    "        info.append(e['imaging_depth'])\n",
    "        info.append(e['targeted_structure'])\n",
    "        lps.append(info)\n",
    "        \n",
    "#get rorb ids\n",
    "for c in rorb_ecs:\n",
    "    exp = boc.get_ophys_experiments(experiment_container_ids=[c['id']], \n",
    "                                stimuli=[stim_info.LOCALLY_SPARSE_NOISE])\n",
    "    for e in exp:\n",
    "        info = ['Rorb-IRES2-Cre']\n",
    "        info.append(e['id'])\n",
    "        info.append(e['imaging_depth'])\n",
    "        info.append(e['targeted_structure'])\n",
    "        lps.append(info)\n",
    "        \n",
    "#get scnn1a ids\n",
    "for c in scnn1a_ecs:\n",
    "    exp = boc.get_ophys_experiments(experiment_container_ids=[c['id']], \n",
    "                                stimuli=[stim_info.LOCALLY_SPARSE_NOISE])\n",
    "    for e in exp:\n",
    "        info = ['Scnn1a-Tg3-Cre']\n",
    "        info.append(e['id'])\n",
    "        info.append(e['imaging_depth'])\n",
    "        info.append(e['targeted_structure'])\n",
    "        lps.append(info)\n",
    "lps"
   ]
  },
  {
   "cell_type": "code",
   "execution_count": 72,
   "metadata": {},
   "outputs": [
    {
     "data": {
      "text/plain": [
       "[501474098,\n",
       " 501847516,\n",
       " 505693621,\n",
       " 501773889,\n",
       " 511977695,\n",
       " 509644421,\n",
       " 530047022,\n",
       " 504809131,\n",
       " 503864409,\n",
       " 525368285,\n",
       " 501839084,\n",
       " 503526711,\n",
       " 506144725,\n",
       " 501337989,\n",
       " 504642019,\n",
       " 527550473,\n",
       " 502066273,\n",
       " 506074436,\n",
       " 500855614,\n",
       " 507552264,\n",
       " 530782502,\n",
       " 502383036,\n",
       " 506954308,\n",
       " 502974807,\n",
       " 504108263,\n",
       " 506356888,\n",
       " 505143581,\n",
       " 505017668,\n",
       " 510532780,\n",
       " 511976254,\n",
       " 508262069,\n",
       " 506248008,\n",
       " 506456537,\n",
       " 501717543,\n",
       " 507373856,\n",
       " 502667200,\n",
       " 501254258,\n",
       " 511856569,\n",
       " 510933273,\n",
       " 539749336,\n",
       " 504101079,\n",
       " 510416190,\n",
       " 502352946,\n",
       " 510174759,\n",
       " 504639393,\n",
       " 509469152,\n",
       " 502634578,\n",
       " 540168837,\n",
       " 527583578,\n",
       " 539515366,\n",
       " 543677427,\n",
       " 528693630,\n",
       " 528792732,\n",
       " 539000397,\n",
       " 530181996,\n",
       " 539540432,\n",
       " 510535700,\n",
       " 510656082,\n",
       " 507691566,\n",
       " 511305590,\n",
       " 510536059,\n",
       " 502665019,\n",
       " 510514430,\n",
       " 510536157,\n",
       " 530739576,\n",
       " 505811062,\n",
       " 501879034,\n",
       " 512176430,\n",
       " 509729072,\n",
       " 502483554,\n",
       " 506694419,\n",
       " 510814438,\n",
       " 510524416,\n",
       " 505198966,\n",
       " 510021399,\n",
       " 526768996,\n",
       " 501788003,\n",
       " 510417261,\n",
       " 506353473,\n",
       " 531008833,\n",
       " 508220632,\n",
       " 497060401,\n",
       " 540609585,\n",
       " 540993890,\n",
       " 511242327,\n",
       " 537153918]"
      ]
     },
     "execution_count": 72,
     "metadata": {},
     "output_type": "execute_result"
    }
   ],
   "source": [
    "ids = []\n",
    "\n",
    "for l in lps:\n",
    "    ids.append(l[1])\n",
    "ids"
   ]
  },
  {
   "cell_type": "code",
   "execution_count": null,
   "metadata": {},
   "outputs": [],
   "source": []
  }
 ],
 "metadata": {
  "kernelspec": {
   "display_name": "Python 3",
   "language": "python",
   "name": "python3"
  },
  "language_info": {
   "codemirror_mode": {
    "name": "ipython",
    "version": 3
   },
   "file_extension": ".py",
   "mimetype": "text/x-python",
   "name": "python",
   "nbconvert_exporter": "python",
   "pygments_lexer": "ipython3",
   "version": "3.6.5"
  }
 },
 "nbformat": 4,
 "nbformat_minor": 2
}
